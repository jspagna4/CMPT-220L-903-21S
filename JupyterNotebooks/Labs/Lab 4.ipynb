{
 "cells": [
  {
   "cell_type": "markdown",
   "metadata": {},
   "source": [
    "# Lab Four\n",
    "---\n",
    "\n",
    "For this lab we're going to be messing around with Markdown!\n",
    "\n",
    "Our Goals are:\n",
    "- Using Markdown!\n",
    "\n",
    "I want you to describe to me your process of converting the assignment and making it DRY. \n",
    "\n",
    "Please show the ability to:\n",
    "- Make a header\n",
    "- Make a list (ordered or unordered)\n",
    "- Link the Markdown Guide from the lesson. \n",
    "- Artuculate your thought process."
   ]
  },
  {
   "cell_type": "markdown",
   "metadata": {},
   "source": [
    "# How I DRYed off the code from Assignment 5\n",
    "---\n",
    "The first thing that I wanted to do was to create a method (function) that would calculate and print out the remaining inventory and cash balance so that we wouldn't have to change each variable manually.\n",
    "\n",
    "The method uses the pretzels available, lemonades available, and cash variables that are already included in the code.\n",
    "\n",
    "The method does these things:\n",
    "\n",
    "- Takes in 3 numbers: pretzels bought, lemonades bought, amount tipped.\n",
    "- Subtracts pretzels bought, lemonades bought from pre-defined totals.\n",
    "- Creates variables for the prices of the products ($2 for pretzels, $8 for lemonades).\n",
    "- Creates a \"total\" variable (price of preztels times pretzels bought and price of lemonade times lemonades bought combined)\n",
    "- Adds total and tip amount to the orginal cash balance.\n",
    "- Prints a statement that tells the user how many pretzels are left, how many lemonades are left, and the new cash balance.\n",
    "- Additonally, it notifys the user when either the preztel balance is 0 or less or the lemonade balance is 0 or less.\n",
    "\n",
    "For each customer, the user calls the method. This way, the user only has to enter 3 numbers per customer, as opposed to changing the variables and making the calculations themselves. The method also removes magic numbers, making our code easier to read and less confusing.\n",
    "\n",
    "Here is the guide that helped me with Markdown:\n",
    "\n",
    "[Markdown Guide](https://www.markdownguide.org/getting-started/)"
   ]
  },
  {
   "cell_type": "code",
   "execution_count": null,
   "metadata": {},
   "outputs": [],
   "source": []
  }
 ],
 "metadata": {
  "kernelspec": {
   "display_name": "Python 3",
   "language": "python",
   "name": "python3"
  },
  "language_info": {
   "codemirror_mode": {
    "name": "ipython",
    "version": 3
   },
   "file_extension": ".py",
   "mimetype": "text/x-python",
   "name": "python",
   "nbconvert_exporter": "python",
   "pygments_lexer": "ipython3",
   "version": "3.8.5"
  }
 },
 "nbformat": 4,
 "nbformat_minor": 4
}
