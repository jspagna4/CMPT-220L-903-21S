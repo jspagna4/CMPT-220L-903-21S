{
 "cells": [
  {
   "cell_type": "markdown",
   "metadata": {},
   "source": [
    "# Lab Three\n",
    "---\n",
    "\n",
    "For this lab we're going to be making and using a bunch of functions. \n",
    "\n",
    "Our Goals are:\n",
    "- Switch Case\n",
    "- Looping\n",
    "- Making our own functions\n",
    "- Combining functions\n",
    "- Structuring solutions"
   ]
  },
  {
   "cell_type": "code",
   "execution_count": 6,
   "metadata": {},
   "outputs": [
    {
     "name": "stdout",
     "output_type": "stream",
     "text": [
      "Disables any electronic equipment with ease. Essential operator.\n",
      "Lots of health, powerful gun, great at protecting the bomb.\n",
      "You should consider using one of these operators!\n"
     ]
    }
   ],
   "source": [
    "// Give me an example of you using switch case.\n",
    "\n",
    "String operator = \"Thatcher\";\n",
    "\n",
    "switch(operator) {\n",
    "    case \"Ash\":\n",
    "        System.out.println(\"Explosive attacker with a small hit box.\");\n",
    "    case \"Thatcher\":\n",
    "        System.out.println(\"Disables any electronic equipment with ease. Essential operator.\");\n",
    "    case \"Gridlock\":\n",
    "        System.out.println(\"Lots of health, powerful gun, great at protecting the bomb.\");\n",
    "    default:\n",
    "        System.out.println(\"You should consider using one of these operators!\");\n",
    "}"
   ]
  },
  {
   "cell_type": "code",
   "execution_count": 7,
   "metadata": {},
   "outputs": [
    {
     "name": "stdout",
     "output_type": "stream",
     "text": [
      "This line has been printed 1 time(s)\n",
      "This line has been printed 2 time(s)\n",
      "This line has been printed 3 time(s)\n",
      "This line has been printed 4 time(s)\n",
      "This line has been printed 5 time(s)\n"
     ]
    }
   ],
   "source": [
    "// Give me an example of you using a for loop\n",
    "\n",
    "for (int i = 1; i < 6; i++) {\n",
    "    System.out.println(\"This line has been printed \" + i + \" time(s)\");\n",
    "}"
   ]
  },
  {
   "cell_type": "code",
   "execution_count": 53,
   "metadata": {},
   "outputs": [
    {
     "name": "stdout",
     "output_type": "stream",
     "text": [
      "1 times 10 equals 10\n",
      "2 times 10 equals 20\n",
      "3 times 10 equals 30\n",
      "4 times 10 equals 40\n",
      "5 times 10 equals 50\n",
      "6 times 10 equals 60\n",
      "7 times 10 equals 70\n",
      "8 times 10 equals 80\n",
      "9 times 10 equals 90\n",
      "10 times 10 equals 100\n"
     ]
    }
   ],
   "source": [
    "// Give me an example of you using a for each loop\n",
    "\n",
    "int[] upToTen = {1, 2, 3, 4, 5, 6, 7, 8, 9, 10};\n",
    "\n",
    "for (Integer num: upToTen) {\n",
    "    System.out.println(num + \" times 10 equals \" + num*10 );\n",
    "}"
   ]
  },
  {
   "cell_type": "code",
   "execution_count": 14,
   "metadata": {},
   "outputs": [
    {
     "name": "stdout",
     "output_type": "stream",
     "text": [
      "-------------\n",
      "|           |\n",
      "|           |\n",
      "|           |\n",
      "|           |\n",
      "|           |\n",
      "-------------\n",
      "Square!\n"
     ]
    }
   ],
   "source": [
    "// Give me an example of you using a while loop\n",
    "\n",
    "int i = 1;\n",
    "    \n",
    "System.out.println(\"-------------\");\n",
    "while (i<6) {\n",
    "    System.out.println(\"|           |\");\n",
    "    i++;\n",
    "}\n",
    "System.out.println(\"-------------\");\n",
    "System.out.println(\"Square!\");"
   ]
  },
  {
   "cell_type": "code",
   "execution_count": 132,
   "metadata": {},
   "outputs": [
    {
     "name": "stdout",
     "output_type": "stream",
     "text": [
      "8\n"
     ]
    }
   ],
   "source": [
    "// I want you to write a function that will take in a number and raise it to the power given. \n",
    "\n",
    "// For example if given the numbers 2 and 3. The math that the function should do is 2^3 and should print out or return 8. Print the output.\n",
    "\n",
    "int exponentCalc(int base, int power) {\n",
    "    int result = 1;\n",
    "    for (int i = 0; i < power; i++) {\n",
    "        result = result * base;\n",
    "    }\n",
    "    return result;\n",
    "}\n",
    "\n",
    "int output = exponentCalc(2, 3);\n",
    "System.out.println(output);"
   ]
  },
  {
   "cell_type": "code",
   "execution_count": 113,
   "metadata": {},
   "outputs": [
    {
     "name": "stdout",
     "output_type": "stream",
     "text": [
      "3\n"
     ]
    }
   ],
   "source": [
    "// I want you to write a function that will take in a list and see how many times a given number is in the list. \n",
    "\n",
    "// For example if the array given is [2,3,5,2,3,6,7,8,2] and the number given is 2 the function should print out or return 3. Print the output.\n",
    "\n",
    "int numberCount(int desiredNum, int[] list) {\n",
    "    int total = 0;\n",
    "    for (int num: list){\n",
    "        if (num == desiredNum) {\n",
    "            total++;\n",
    "        }\n",
    "    }\n",
    "    return total;\n",
    "}\n",
    "\n",
    "int[] x = {2,3,5,2,3,6,7,8,2};\n",
    "int output = numberCount(2, x);\n",
    "System.out.println(output);"
   ]
  },
  {
   "cell_type": "code",
   "execution_count": 144,
   "metadata": {},
   "outputs": [
    {
     "name": "stdout",
     "output_type": "stream",
     "text": [
      "5\n"
     ]
    }
   ],
   "source": [
    "// Give me a function that gives the answer to the pythagorean theorem. \n",
    "// I'd like you to reuse the exponent function from above as well as the functions below to make your function.\n",
    "\n",
    "// If you don't remember the pythagorean theorem the formula is (a^2 + b^2 = c^2). Given a and b as parameters i'd like you to return c. \n",
    "// If this doesn't make sense look up `Pythagorean Theorem Formula` on google.\n",
    "\n",
    "int addition(int a, int b) {\n",
    "    int answer = a + b;\n",
    "    return answer;\n",
    "}\n",
    "\n",
    "int division(int a, int b) {\n",
    "    int answer = a / b;\n",
    "    return answer;\n",
    "}\n",
    "\n",
    "int exponentCalc(int base, int power) {\n",
    "    int result = 1;\n",
    "    for (int i = 0; i < power; i++) {\n",
    "        result = result * base;\n",
    "    }\n",
    "    return result;\n",
    "}\n",
    "\n",
    "int pythThrm(int a, int b) {\n",
    "    int a2 = exponentCalc(a, 2);\n",
    "    int b2 = exponentCalc(b, 2);\n",
    "    int a2plusb2 = addition(a2, b2);\n",
    "    int c = 2;\n",
    "    int divider = 1;\n",
    "    while (c != divider) {\n",
    "    divider++; \n",
    "    c = division(a2plusb2, divider);   \n",
    "    }\n",
    "    return c;\n",
    "}\n",
    "\n",
    "int output = pythThrm(4, 3);\n",
    "System.out.println(output);"
   ]
  },
  {
   "cell_type": "code",
   "execution_count": null,
   "metadata": {},
   "outputs": [],
   "source": []
  }
 ],
 "metadata": {
  "kernelspec": {
   "display_name": "Java",
   "language": "java",
   "name": "java"
  },
  "language_info": {
   "codemirror_mode": "java",
   "file_extension": ".jshell",
   "mimetype": "text/x-java-source",
   "name": "Java",
   "pygments_lexer": "java",
   "version": "15.0.2+7-27"
  }
 },
 "nbformat": 4,
 "nbformat_minor": 4
}
