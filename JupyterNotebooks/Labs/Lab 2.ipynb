{
 "cells": [
  {
   "cell_type": "markdown",
   "metadata": {},
   "source": [
    "# Lab Two\n",
    "---\n",
    "\n",
    "Ok for this lab we're going to reiterate a lot of the things that we went over in class.\n",
    "\n",
    "Our Goals are:\n",
    "- Conditionals\n",
    "    - If\n",
    "    - Else\n",
    "    - Else If"
   ]
  },
  {
   "cell_type": "code",
   "execution_count": 4,
   "metadata": {},
   "outputs": [
    {
     "name": "stdout",
     "output_type": "stream",
     "text": [
      "Double digits\n"
     ]
    }
   ],
   "source": [
    "// Make an if statement\n",
    "\n",
    "int var1 = 10;\n",
    "if (var1 > 9) {\n",
    "    System.out.println(\"Double digits\");\n",
    "}"
   ]
  },
  {
   "cell_type": "code",
   "execution_count": 3,
   "metadata": {},
   "outputs": [
    {
     "name": "stdout",
     "output_type": "stream",
     "text": [
      "Lie\n"
     ]
    }
   ],
   "source": [
    "// Make an if, else statement where the else statement triggers\n",
    "\n",
    "if (!true) {\n",
    "    System.out.println(\"Truth\");\n",
    "} else {\n",
    "    System.out.println(\"Lie\");\n",
    "}"
   ]
  },
  {
   "cell_type": "code",
   "execution_count": 2,
   "metadata": {},
   "outputs": [
    {
     "name": "stdout",
     "output_type": "stream",
     "text": [
      "Medium number\n"
     ]
    }
   ],
   "source": [
    "// Make an if, else if, else statement where the else if statement triggers\n",
    "\n",
    "int var1 = 15;\n",
    "if (var1 > 20) {\n",
    "    System.out.println(\"Big number\");\n",
    "} else if (var1 > 10) {\n",
    "    System.out.println(\"Medium number\");\n",
    "} else {\n",
    "    System.out.println(\"Small number\");\n",
    "}"
   ]
  },
  {
   "cell_type": "code",
   "execution_count": 1,
   "metadata": {},
   "outputs": [
    {
     "name": "stdout",
     "output_type": "stream",
     "text": [
      "Player 1 wins!\n"
     ]
    }
   ],
   "source": [
    "// Make 2 variables and use them in an if else conditional\n",
    "\n",
    "int p1score = 81;\n",
    "int p2score = 78;\n",
    "if (p1score > p2score) {\n",
    "    System.out.println(\"Player 1 wins!\");\n",
    "} else {\n",
    "    System.out.println(\"Player 2 wins!\");\n",
    "}"
   ]
  },
  {
   "cell_type": "code",
   "execution_count": 6,
   "metadata": {},
   "outputs": [
    {
     "name": "stdout",
     "output_type": "stream",
     "text": [
      "Chocolate milk\n"
     ]
    }
   ],
   "source": [
    "// Make an if statement using 2 variables and an AND(&&) statement\n",
    "\n",
    "boolean chocolate = true;\n",
    "boolean milk = true;\n",
    "if (chocolate && milk) {\n",
    "    System.out.println(\"Chocolate milk\");\n",
    "}"
   ]
  },
  {
   "cell_type": "code",
   "execution_count": 7,
   "metadata": {},
   "outputs": [
    {
     "name": "stdout",
     "output_type": "stream",
     "text": [
      "Work Out\n"
     ]
    }
   ],
   "source": [
    "// Make an if statement using 2 variables and an OR(||) statement\n",
    "\n",
    "boolean weights = true;\n",
    "boolean cardio = false;\n",
    "if (weights || cardio) {\n",
    "    System.out.println(\"Work Out\");\n",
    "}"
   ]
  },
  {
   "cell_type": "code",
   "execution_count": null,
   "metadata": {},
   "outputs": [],
   "source": []
  }
 ],
 "metadata": {
  "kernelspec": {
   "display_name": "Java",
   "language": "java",
   "name": "java"
  },
  "language_info": {
   "codemirror_mode": "java",
   "file_extension": ".jshell",
   "mimetype": "text/x-java-source",
   "name": "Java",
   "pygments_lexer": "java",
   "version": "15.0.2+7-27"
  }
 },
 "nbformat": 4,
 "nbformat_minor": 4
}
