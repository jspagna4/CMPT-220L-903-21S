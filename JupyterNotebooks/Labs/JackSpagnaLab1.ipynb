{
 "cells": [
  {
   "cell_type": "markdown",
   "metadata": {},
   "source": [
    "# Jack Spagna - Lab One\n",
    "---\n",
    "\n",
    "Ok for this lab we're going to reiterate a lot of the things that we went over in class.\n",
    "\n",
    "Our Goals are:\n",
    "- Binary Math\n",
    "- Defining Variables\n",
    "    - Primitive Types\n",
    "    - Reference Types\n",
    "- Using Math\n",
    "- Manipulating Variables"
   ]
  },
  {
   "cell_type": "markdown",
   "metadata": {},
   "source": [
    "For this section I just want you to type the answer. I know that you can just look this up but try and do the math. \n",
    "### What is 1000 in Decimal\n",
    "\n",
    "8\n",
    "\n",
    "### What is 1000 1001 in Decimal (This is a byte. It's just split for readability)\n",
    "\n",
    "137\n",
    "\n",
    "### What is 1010 1111 in Decimal (This is a byte. It's just split for readability)\n",
    "\n",
    "175\n",
    "\n",
    "### What is 0101 1010 in Decimal (This is a byte. It's just split for readability)\n",
    "\n",
    "90"
   ]
  },
  {
   "cell_type": "code",
   "execution_count": null,
   "metadata": {},
   "outputs": [],
   "source": [
    "// Define 8 variables, one of each type listed: [boolean, byte, short, int, long, float, double, char]. Print all 8 of them.\n",
    "\n",
    "boolean activePlayer = true;\n",
    "byte jerseyNumber = 48;\n",
    "short fastballSpeed = 101;\n",
    "int careerSO = 1359;\n",
    "long contractMoney = 137500000;\n",
    "float smallNum = 0.01283f;\n",
    "double careerERA = 2.61;\n",
    "char lastInitial = 'd';\n",
    "\n",
    "System.out.println(activePlayer);\n",
    "System.out.println(jerseyNumber);\n",
    "System.out.println(fastballSpeed);\n",
    "System.out.println(careerSO);\n",
    "System.out.println(contractMoney);\n",
    "System.out.println(smallNum);\n",
    "System.out.println(careerERA);\n",
    "System.out.println(lastInitial);"
   ]
  },
  {
   "cell_type": "code",
   "execution_count": null,
   "metadata": {},
   "outputs": [],
   "source": [
    "// Make me a list of any type\n",
    "\n",
    "ArrayList<String> list1 = new ArrayList<String>();\n",
    "list1.add(\"a\");\n",
    "list1.add(\"b\");\n",
    "list1.add(\"c\");\n",
    "System.out.println(list1);"
   ]
  },
  {
   "cell_type": "code",
   "execution_count": null,
   "metadata": {},
   "outputs": [],
   "source": [
    "// With whatever variables you'd like demonstrate the following: [Addition, Subtraction, Division, Multiplication, Modulo]. Print all 5.\n",
    "\n",
    "System.out.println(3 + 2);\n",
    "System.out.println(10 - 6);\n",
    "System.out.println(12 / 4);\n",
    "System.out.println(2 * 1);\n",
    "System.out.println(22 % 7);"
   ]
  },
  {
   "cell_type": "code",
   "execution_count": null,
   "metadata": {},
   "outputs": [],
   "source": [
    "// Using 2 variables and addition print the number 57\n",
    "\n",
    "byte num1 = 30;\n",
    "byte num2 = 27;\n",
    "System.out.println(30+27);"
   ]
  },
  {
   "cell_type": "code",
   "execution_count": null,
   "metadata": {},
   "outputs": [],
   "source": [
    "// Define a variable and print it out. Then alter the same variable and print it out. This can be through string concatenation or addition, etc.\n",
    "\n",
    "int alterNum = 20;\n",
    "System.out.println(alterNum);\n",
    "alterNum = alterNum + 22;\n",
    "System.out.println(alterNum);"
   ]
  }
 ],
 "metadata": {
  "kernelspec": {
   "display_name": "Java",
   "language": "java",
   "name": "java"
  },
  "language_info": {
   "codemirror_mode": "java",
   "file_extension": ".jshell",
   "mimetype": "text/x-java-source",
   "name": "Java",
   "pygments_lexer": "java",
   "version": "15.0.2+7-27"
  }
 },
 "nbformat": 4,
 "nbformat_minor": 2
}
