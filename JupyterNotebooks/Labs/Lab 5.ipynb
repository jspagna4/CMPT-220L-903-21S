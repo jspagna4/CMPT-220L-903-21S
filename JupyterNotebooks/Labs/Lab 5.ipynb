{
 "cells": [
  {
   "cell_type": "markdown",
   "metadata": {},
   "source": [
    "# Lab Five\n",
    "---\n",
    "\n",
    "For this lab we're going to be messing around with our Linear Data Types!\n",
    "\n",
    "Our Goals are:\n",
    "- Creating an Array\n",
    "- Creating an ArrayList\n",
    "- Creating an LinkedList\n",
    "- Creating an Queue\n",
    "- Creating an Stack \n",
    "\n",
    "Please show the ability to:\n",
    "- Create these data types\n",
    "- Populate the data types\n",
    "- Print out the Linear Data Types"
   ]
  },
  {
   "cell_type": "code",
   "execution_count": 4,
   "metadata": {},
   "outputs": [
    {
     "name": "stdout",
     "output_type": "stream",
     "text": [
      "Chimchar\n",
      "Ampharos\n",
      "Staraptor\n",
      "Jigglypuff\n",
      "Kyogre\n",
      "Dragonite\n"
     ]
    }
   ],
   "source": [
    "// Create an Array, Populate it, and Print it out\n",
    "\n",
    "String[] pokemonList = {\"Chimchar\", \"Ampharos\", \"Staraptor\", \"Jigglypuff\", \"Kyogre\", \"Dragonite\"};\n",
    "\n",
    "for (String pokemon: pokemonList) {\n",
    "    System.out.println(pokemon);\n",
    "}"
   ]
  },
  {
   "cell_type": "code",
   "execution_count": 6,
   "metadata": {},
   "outputs": [
    {
     "name": "stdout",
     "output_type": "stream",
     "text": [
      "true\n",
      "false\n",
      "true\n",
      "true\n",
      "false\n",
      "true\n"
     ]
    }
   ],
   "source": [
    "// Create an ArrayList, Populate it, and Print it out\n",
    "\n",
    "ArrayList<Boolean> boolList = new ArrayList(Arrays.asList(true, false, true, true, false, true));\n",
    "\n",
    "for (boolean bool: boolList) {\n",
    "    System.out.println(bool);\n",
    "}"
   ]
  },
  {
   "cell_type": "code",
   "execution_count": 7,
   "metadata": {},
   "outputs": [
    {
     "name": "stdout",
     "output_type": "stream",
     "text": [
      "[Brandon Nimmo, Francisco Lindor, Michael Conforto, Pete Alosno, Dom Smith, Jeff McNeil, JD Davis, James McCann, Jacob deGrom]\n"
     ]
    }
   ],
   "source": [
    "// Create an LinkedList, Populate it, and Print it out\n",
    "\n",
    "LinkedList<String> lineup = new LinkedList<String>();\n",
    "\n",
    "lineup.add(\"Brandon Nimmo\");\n",
    "lineup.add(\"Francisco Lindor\");\n",
    "lineup.add(\"Michael Conforto\");\n",
    "lineup.add(\"Pete Alosno\");\n",
    "lineup.add(\"Dom Smith\");\n",
    "lineup.add(\"Jeff McNeil\");\n",
    "lineup.add(\"JD Davis\");\n",
    "lineup.add(\"James McCann\");\n",
    "lineup.add(\"Jacob deGrom\");\n",
    "\n",
    "System.out.println(lineup);"
   ]
  },
  {
   "cell_type": "code",
   "execution_count": 9,
   "metadata": {},
   "outputs": [
    {
     "name": "stdout",
     "output_type": "stream",
     "text": [
      "[2, 4, 6, 8, 10]\n"
     ]
    }
   ],
   "source": [
    "// Create an Queue, Populate it, and Print it out\n",
    "\n",
    "Queue<Integer> evens = new LinkedList<Integer>();\n",
    "\n",
    "evens.add(2);\n",
    "evens.add(4);\n",
    "evens.add(6);\n",
    "evens.add(8);\n",
    "evens.add(10);\n",
    "\n",
    "System.out.println(evens);"
   ]
  },
  {
   "cell_type": "code",
   "execution_count": 1,
   "metadata": {},
   "outputs": [
    {
     "name": "stdout",
     "output_type": "stream",
     "text": [
      "[Software Development I, Applied Statistics, Food Ethics, Sports Ethics, Modern Speculative Fiction]\n"
     ]
    }
   ],
   "source": [
    "// Create an Stack, Populate it, and Print it out\n",
    "\n",
    "Stack<String> classes = new Stack<String>();\n",
    "\n",
    "classes.push(\"Software Development I\");\n",
    "classes.push(\"Applied Statistics\");\n",
    "classes.push(\"Food Ethics\");\n",
    "classes.push(\"Sports Ethics\");\n",
    "classes.push(\"Modern Speculative Fiction\");\n",
    "\n",
    "System.out.println(classes);"
   ]
  },
  {
   "cell_type": "code",
   "execution_count": null,
   "metadata": {},
   "outputs": [],
   "source": []
  }
 ],
 "metadata": {
  "kernelspec": {
   "display_name": "Java",
   "language": "java",
   "name": "java"
  },
  "language_info": {
   "codemirror_mode": "java",
   "file_extension": ".jshell",
   "mimetype": "text/x-java-source",
   "name": "Java",
   "pygments_lexer": "java",
   "version": "15.0.2+7-27"
  }
 },
 "nbformat": 4,
 "nbformat_minor": 4
}
